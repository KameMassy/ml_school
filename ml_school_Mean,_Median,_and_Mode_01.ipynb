{
  "nbformat": 4,
  "nbformat_minor": 0,
  "metadata": {
    "colab": {
      "provenance": [],
      "authorship_tag": "ABX9TyP3iQbwfuEMrkedbSEpGQKX",
      "include_colab_link": true
    },
    "kernelspec": {
      "name": "python3",
      "display_name": "Python 3"
    },
    "language_info": {
      "name": "python"
    }
  },
  "cells": [
    {
      "cell_type": "markdown",
      "metadata": {
        "id": "view-in-github",
        "colab_type": "text"
      },
      "source": [
        "<a href=\"https://colab.research.google.com/github/KameMassy/ml_school/blob/main/ml_school_Mean%2C_Median%2C_and_Mode.ipynb\" target=\"_parent\"><img src=\"https://colab.research.google.com/assets/colab-badge.svg\" alt=\"Open In Colab\"/></a>"
      ]
    },
    {
      "cell_type": "markdown",
      "source": [
        "#Mean, Median, and Mode\n",
        "###What can we learn from looking at a group of numbers?\n",
        "\n",
        "###In Machine Learning (and in mathematics) there are often three values that interests us:\n",
        "\n",
        "##Mean - The average value\n",
        "##Median - The mid point value\n",
        "##Mode - The most common value\n",
        "###We have registered the speed of 13 cars:\n",
        "##What is the average, the middle, or the most common speed value?\n",
        "###speed = [99,86,87,88,111,86,103,87,94,78,77,85,86]\n",
        "#Mean\n",
        "###The mean value is the average value.\n",
        "\n",
        "###To calculate the mean, find the sum of all values, and divide the sum by the number of values:\n",
        "\n",
        "###(99+86+87+88+111+86+103+87+94+78+77+85+86) / 13 = 89.77\n",
        "\n",
        "#The NumPy module has a method for this\n"
      ],
      "metadata": {
        "id": "UAwUuomK142C"
      }
    },
    {
      "cell_type": "code",
      "execution_count": null,
      "metadata": {
        "colab": {
          "base_uri": "https://localhost:8080/"
        },
        "id": "3damSKqq1s91",
        "outputId": "c37a9760-1c6c-43ff-d37c-64f7af1a2c12"
      },
      "outputs": [
        {
          "output_type": "stream",
          "name": "stdout",
          "text": [
            "89.76923076923077\n"
          ]
        }
      ],
      "source": [
        "import numpy as np\n",
        "\n",
        "speed = [99,86,87,88,111,86,103,87,94,78,77,85,86]\n",
        "\n",
        "x = np.mean(speed)\n",
        "\n",
        "print(x)"
      ]
    },
    {
      "cell_type": "markdown",
      "source": [
        "#Median\n",
        "###The median value is the value in the middle, after you have sorted all the values:\n",
        "###77, 78, 85, 86, 86, 86, 87, 87, 88, 94, 99, 103, 111\n",
        "###The NumPy module has a method median() for this"
      ],
      "metadata": {
        "id": "5yvm9N8Z330v"
      }
    },
    {
      "cell_type": "markdown",
      "source": [
        "##Use the NumPy median() method to find the middle value:"
      ],
      "metadata": {
        "id": "ErnU1Wi64peT"
      }
    },
    {
      "cell_type": "code",
      "source": [
        "import numpy as np\n",
        "\n",
        "speed = [99,86,87,88,111,86,103,87,94,78,77,85,86]\n",
        "\n",
        "x = np.median(speed)\n",
        "\n",
        "print(x)"
      ],
      "metadata": {
        "colab": {
          "base_uri": "https://localhost:8080/"
        },
        "id": "XrWbeXqx3Sz9",
        "outputId": "65057b8c-4d3f-432d-9017-d29819bcffd4"
      },
      "execution_count": null,
      "outputs": [
        {
          "output_type": "stream",
          "name": "stdout",
          "text": [
            "87.0\n"
          ]
        }
      ]
    },
    {
      "cell_type": "markdown",
      "source": [
        "#If there are two numbers in the middle, divide the sum of those numbers by two.\n",
        "##77, 78, 85, 86, 86, 86, 87, 87, 94, 98, 99, 103\n",
        "\n",
        "##(86 + 87) / 2 = 86.5"
      ],
      "metadata": {
        "id": "YcPlER_B5EO2"
      }
    },
    {
      "cell_type": "code",
      "source": [
        "import numpy as np\n",
        "\n",
        "speed = [99,86,87,88,86,103,87,94,78,77,85,86]\n",
        "\n",
        "x = np.median(speed)\n",
        "\n",
        "print(x)"
      ],
      "metadata": {
        "colab": {
          "base_uri": "https://localhost:8080/"
        },
        "id": "tKnMRAic4uoM",
        "outputId": "f5896206-2d7e-4b05-dee4-1661ff5cd6b6"
      },
      "execution_count": null,
      "outputs": [
        {
          "output_type": "stream",
          "name": "stdout",
          "text": [
            "86.5\n"
          ]
        }
      ]
    },
    {
      "cell_type": "markdown",
      "source": [
        "#Mode\n",
        "##The Mode value is the value that appears the most number of times:\n",
        "\n",
        "###99, 86, 87, 88, 111, 86, 103, 87, 94, 78, 77, 85, 86 = 86\n",
        "##The SciPy module has a method for this"
      ],
      "metadata": {
        "id": "mNKpZ9Op5qBr"
      }
    },
    {
      "cell_type": "code",
      "source": [
        "from scipy import stats\n",
        "\n",
        "speed = [99,86,87,88,111,86,103,87,94,78,77,85,86]\n",
        "\n",
        "x = stats.mode(speed)\n",
        "\n",
        "print(x)"
      ],
      "metadata": {
        "colab": {
          "base_uri": "https://localhost:8080/"
        },
        "id": "h3ruYTCC5lsh",
        "outputId": "a6034d42-5652-4bc5-e6fd-2b964edf73cd"
      },
      "execution_count": null,
      "outputs": [
        {
          "output_type": "stream",
          "name": "stdout",
          "text": [
            "ModeResult(mode=array([86]), count=array([3]))\n"
          ]
        },
        {
          "output_type": "stream",
          "name": "stderr",
          "text": [
            "<ipython-input-4-1482839292bc>:5: FutureWarning: Unlike other reduction functions (e.g. `skew`, `kurtosis`), the default behavior of `mode` typically preserves the axis it acts along. In SciPy 1.11.0, this behavior will change: the default value of `keepdims` will become False, the `axis` over which the statistic is taken will be eliminated, and the value None will no longer be accepted. Set `keepdims` to True or False to avoid this warning.\n",
            "  x = stats.mode(speed)\n"
          ]
        }
      ]
    }
  ]
}
