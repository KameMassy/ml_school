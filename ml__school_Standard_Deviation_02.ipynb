{
  "nbformat": 4,
  "nbformat_minor": 0,
  "metadata": {
    "colab": {
      "provenance": [],
      "authorship_tag": "ABX9TyNWVRSLBpIJwuB0dCQewB4S",
      "include_colab_link": true
    },
    "kernelspec": {
      "name": "python3",
      "display_name": "Python 3"
    },
    "language_info": {
      "name": "python"
    }
  },
  "cells": [
    {
      "cell_type": "markdown",
      "metadata": {
        "id": "view-in-github",
        "colab_type": "text"
      },
      "source": [
        "<a href=\"https://colab.research.google.com/github/KameMassy/ml_school/blob/main/ml__school_Standard_Deviation.ipynb\" target=\"_parent\"><img src=\"https://colab.research.google.com/assets/colab-badge.svg\" alt=\"Open In Colab\"/></a>"
      ]
    },
    {
      "cell_type": "markdown",
      "source": [
        "#What is Standard Deviation?\n",
        "##Standard deviation is a number that describes how spread out the values are.\n",
        "\n",
        "###A low standard deviation means that most of the numbers are close to the mean (average) value.\n",
        "\n",
        "###A high standard deviation means that the values are spread out over a wider range.\n",
        "\n",
        "###Example: This time we have registered the speed of 7 cars:\n",
        "\n",
        "##speed = [86,87,88,86,87,85,86]"
      ],
      "metadata": {
        "id": "nXwa_KEM-Af-"
      }
    },
    {
      "cell_type": "markdown",
      "source": [
        "###The standard deviation is:\n",
        "#0.9\n",
        "###Meaning that most of the values are within the range of 0.9 from the mean value, which is 86.4.\n",
        "\n",
        "###Let us do the same with a selection of numbers with a wider range:\n",
        "\n",
        "###speed = [32,111,138,28,59,77,97]\n",
        "\n",
        "###The standard deviation is:\n",
        "\n",
        "#37.85\n",
        "###Meaning that most of the values are within the range of 37.85 from the mean value, which is 77.4.\n",
        "\n",
        "###As you can see, a higher standard deviation indicates that the values are spread out over a wider range.\n",
        "\n",
        "###The NumPy module has a method to calculate the standard deviation:"
      ],
      "metadata": {
        "id": "pkuTRdmy_Ky3"
      }
    },
    {
      "cell_type": "markdown",
      "source": [
        "#use the NumPy std() method to find the standard deviation:\n"
      ],
      "metadata": {
        "id": "w1fsE9y1AJcc"
      }
    },
    {
      "cell_type": "code",
      "execution_count": null,
      "metadata": {
        "colab": {
          "base_uri": "https://localhost:8080/"
        },
        "id": "gb2fagvz7Y2E",
        "outputId": "ddff97ae-4f2f-44fb-d019-a8a8123cfab2"
      },
      "outputs": [
        {
          "output_type": "stream",
          "name": "stdout",
          "text": [
            "0.9035079029052513\n"
          ]
        }
      ],
      "source": [
        "\n",
        "import numpy as np \n",
        "\n",
        "speed = [86,87,88,86,87,85,86]\n",
        "\n",
        "x = np.std(speed)\n",
        "\n",
        "print(x)"
      ]
    },
    {
      "cell_type": "markdown",
      "source": [
        "#what is Variance?\n",
        "##Variance is another number that indicates how spread out the values are.\n",
        "\n",
        "##In fact, if you take the square root of the variance, you get the standard deviation!\n",
        "\n",
        "##Or the other way around, if you multiply the standard deviation by itself, you get the variance!\n",
        "\n",
        "##To calculate the variance you have to do as follows:\n",
        "#1. Find the mean:\n",
        "##(32+111+138+28+59+77+97) / 7 = 77.4\n",
        "#2. For each value: find the difference from the mean:\n",
        "## 32 - 77.4 = -45.4\n",
        "##111 - 77.4 =  33.6\n",
        "##138 - 77.4 =  60.6\n",
        "##28 - 77.4 = -49.4\n",
        "##59 - 77.4 = -18.4\n",
        "##77 - 77.4 = - 0.4\n",
        "##97 - 77.4 =  19.6\n",
        "#3. For each difference: find the square value:\n",
        "##(-45.4)2 = 2061.16\n",
        "##(33.6)2 = 1128.96\n",
        "##(60.6)2 = 3672.36\n",
        "##(-49.4)2 = 2440.36\n",
        "##(-18.4)2 =  338.56\n",
        "##(- 0.4)2 =    0.16\n",
        "##(19.6)2 =  384.16\n",
        "##4. The variance is the average number of these squared differences:\n",
        "\n",
        "##(2061.16+1128.96+3672.36+2440.36+338.56+0.16+384.16) / 7 = 1432.2\n",
        "# NumPy has a method to calculate the variance"
      ],
      "metadata": {
        "id": "hxaP9444DCmn"
      }
    },
    {
      "cell_type": "markdown",
      "source": [
        "#Use the NumPy var() method to find the variance:"
      ],
      "metadata": {
        "id": "vyT1i8zzEpqN"
      }
    },
    {
      "cell_type": "code",
      "source": [
        "import numpy as np\n",
        "\n",
        "speed = [32,111,138,28,59,77,97]\n",
        "\n",
        "x = np.var(speed)\n",
        "\n",
        "print(x)\n"
      ],
      "metadata": {
        "colab": {
          "base_uri": "https://localhost:8080/"
        },
        "id": "xRzIyvngAOYc",
        "outputId": "78f178cd-9944-4274-f183-75ed978d967e"
      },
      "execution_count": null,
      "outputs": [
        {
          "output_type": "stream",
          "name": "stdout",
          "text": [
            "1432.2448979591834\n"
          ]
        }
      ]
    },
    {
      "cell_type": "markdown",
      "source": [
        "#Standard Deviation\n",
        "##As we have learned, the formula to find the standard deviation is the square root of the variance:\n",
        "\n",
        "#√1432.25 = 37.85"
      ],
      "metadata": {
        "id": "ttvjB5JRE1w8"
      }
    },
    {
      "cell_type": "markdown",
      "source": [
        "#Use the NumPy std() method to find the standard deviation:"
      ],
      "metadata": {
        "id": "tiTF60M8FBCJ"
      }
    },
    {
      "cell_type": "code",
      "source": [
        "import numpy as np\n",
        "\n",
        "speed = [32,111,138,28,59,77,97]\n",
        "\n",
        "x = np.std(speed)\n",
        "\n",
        "print(x)"
      ],
      "metadata": {
        "colab": {
          "base_uri": "https://localhost:8080/"
        },
        "id": "4TulZ4utEwdM",
        "outputId": "056329a3-2b85-4152-9c2c-e1e26589b1cd"
      },
      "execution_count": null,
      "outputs": [
        {
          "output_type": "stream",
          "name": "stdout",
          "text": [
            "37.84501153334721\n"
          ]
        }
      ]
    },
    {
      "cell_type": "markdown",
      "source": [
        "#Symbols\n",
        "##Standard Deviation is often represented by the symbol Sigma: σ\n",
        "\n",
        "##Variance is often represented by the symbol Sigma Squared: σ2"
      ],
      "metadata": {
        "id": "UVixWCmZF2BP"
      }
    },
    {
      "cell_type": "code",
      "source": [],
      "metadata": {
        "id": "T48v4HRwFKuB"
      },
      "execution_count": null,
      "outputs": []
    }
  ]
}
