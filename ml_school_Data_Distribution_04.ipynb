{
  "nbformat": 4,
  "nbformat_minor": 0,
  "metadata": {
    "colab": {
      "provenance": [],
      "authorship_tag": "ABX9TyNEYzMTL5ejxlDouzVnZeBQ",
      "include_colab_link": true
    },
    "kernelspec": {
      "name": "python3",
      "display_name": "Python 3"
    },
    "language_info": {
      "name": "python"
    }
  },
  "cells": [
    {
      "cell_type": "markdown",
      "metadata": {
        "id": "view-in-github",
        "colab_type": "text"
      },
      "source": [
        "<a href=\"https://colab.research.google.com/github/KameMassy/ml_school/blob/main/Ml_school_Data_Distribution.ipynb\" target=\"_parent\"><img src=\"https://colab.research.google.com/assets/colab-badge.svg\" alt=\"Open In Colab\"/></a>"
      ]
    },
    {
      "cell_type": "markdown",
      "source": [
        "#Data Distribution\n",
        "##Earlier in this tutorial we have worked with very small amounts of data in our examples, just to understand the different concepts.\n",
        "\n",
        "##In the real world, the data sets are much bigger, but it can be difficult to gather real world data, at least at an early stage of a project.\n",
        "\n",
        "#How Can we Get Big Data Sets?\n",
        "##To create big data sets for testing, we use the Python module NumPy, which comes with a number of methods to create random data sets, of any size."
      ],
      "metadata": {
        "id": "ePVWYO3YNsuS"
      }
    },
    {
      "cell_type": "markdown",
      "source": [
        "#Create an array containing 250 random floats between 0 and 5:"
      ],
      "metadata": {
        "id": "FzjmQLfnN5TE"
      }
    },
    {
      "cell_type": "code",
      "execution_count": 1,
      "metadata": {
        "colab": {
          "base_uri": "https://localhost:8080/"
        },
        "id": "Azfa-sX-MD81",
        "outputId": "53ef2533-77a4-4e2e-8c68-f46c3d0601c1"
      },
      "outputs": [
        {
          "output_type": "stream",
          "name": "stdout",
          "text": [
            "[4.33104959 1.09530682 0.70263593 4.0706568  2.90165246 2.52800208\n",
            " 0.73732754 3.64478477 4.52070281 4.42737528 4.07151801 0.67979067\n",
            " 2.99197209 2.03242551 3.92569812 1.56858472 3.86464573 2.76180839\n",
            " 2.26157477 1.84897652 4.31325214 3.01985556 0.98345256 4.59649328\n",
            " 0.49735172 1.67029898 2.17571591 3.03910418 0.44375308 2.02430994\n",
            " 0.30279112 4.61381667 2.41207364 0.53962353 3.07000424 1.57675871\n",
            " 2.28592544 1.28914435 2.13986485 0.66715715 2.57617122 0.8934944\n",
            " 4.7701058  0.80153586 2.0003514  1.70007141 4.54998085 0.55043833\n",
            " 4.88122575 3.75027817 4.79013961 4.38894738 0.61767037 4.24038174\n",
            " 3.45860276 0.46497515 4.44693161 1.63853042 3.40665072 3.61330904\n",
            " 3.33052466 1.07130452 4.74953718 1.59695749 2.8743523  1.70409204\n",
            " 4.71231214 1.05920705 2.45942512 0.80915255 0.98034188 2.63107169\n",
            " 1.11158564 0.65651294 0.93976208 0.49347443 2.43997349 0.12403339\n",
            " 3.81131912 2.17467686 1.72573699 1.9226812  1.87971604 2.88398488\n",
            " 1.38621715 0.45646785 1.89061064 0.94050017 4.08197155 1.83947387\n",
            " 4.08065415 3.00576484 3.84231951 0.17699168 3.49735582 3.56964134\n",
            " 4.78746586 0.88958363 2.86455598 1.98719032 4.77584975 3.00553477\n",
            " 4.84713258 3.69993962 2.76123666 1.10615807 2.95012501 0.34128022\n",
            " 2.85234345 2.08030793 1.87425864 2.77984555 1.40153465 1.10278178\n",
            " 3.9979022  1.98764669 4.08071153 1.79906354 4.47967412 2.36068746\n",
            " 3.43119364 4.43274821 0.99599846 4.18316417 3.67485879 1.78088423\n",
            " 4.09824231 4.00482949 3.56388051 0.20834723 0.32445574 3.14074169\n",
            " 2.66626951 1.95456269 0.61921106 4.3474228  1.5604208  4.8771212\n",
            " 2.58826323 0.54829951 3.55820071 0.08164917 3.24283298 1.83083131\n",
            " 3.74595652 0.90166558 3.27251114 2.31286879 1.16993895 4.28068473\n",
            " 2.43427092 1.57067357 3.52455244 3.76731377 1.83655465 4.21501519\n",
            " 0.14071119 1.79442748 2.97897599 4.18683388 0.62262938 0.30770726\n",
            " 1.34846754 0.91661147 2.89653076 2.97195618 4.3099948  2.45536741\n",
            " 4.39730521 1.55829231 2.54095042 4.5759318  3.14902447 3.69989365\n",
            " 2.64520605 0.92579841 2.64061575 2.92239213 1.50734699 1.31549902\n",
            " 0.22609977 3.50317785 0.72700912 4.05915023 1.8799583  0.31785352\n",
            " 2.04162383 0.69461672 1.21439907 2.97195494 1.35394715 4.82380882\n",
            " 4.86833553 1.53445713 2.12774101 1.41597735 1.414326   2.54870954\n",
            " 3.24991243 1.45517827 1.1337317  2.95628828 4.82231257 0.66227768\n",
            " 2.64244887 2.19629428 3.37062104 4.50003466 3.95054597 2.4049402\n",
            " 2.95349685 4.5289046  0.67278476 0.55187384 2.71285419 2.86683256\n",
            " 4.92021291 3.99465397 2.94590874 3.39605472 0.34522568 2.8287466\n",
            " 1.39251927 3.97050174 4.63054966 2.82573986 4.72660485 4.90423476\n",
            " 2.47685973 0.21720019 3.00712809 0.99387867 4.55877568 3.04314909\n",
            " 1.54737276 2.9041941  1.96774122 2.98654897 0.45397435 3.9590835\n",
            " 1.5995675  2.42257518 0.08073182 4.56773175 3.01454589 3.40802232\n",
            " 2.24760143 1.11667377 1.63834054 0.47990327]\n"
          ]
        }
      ],
      "source": [
        "import numpy\n",
        "\n",
        "x = numpy.random.uniform(0.0, 5.0, 250)\n",
        "\n",
        "print(x)"
      ]
    },
    {
      "cell_type": "markdown",
      "source": [
        "#Histogram\n",
        "##To visualize the data set we can draw a histogram with the data we collected.\n",
        "\n",
        "##We will use the Python module Matplotlib to draw a histogram"
      ],
      "metadata": {
        "id": "sXr_KqfZOIgA"
      }
    },
    {
      "cell_type": "code",
      "source": [
        "import numpy\n",
        "import matplotlib.pyplot as plt\n",
        "\n",
        "x = numpy.random.uniform(0.0, 5.0, 250)\n",
        "\n",
        "plt.hist(x, 5)\n",
        "plt.show()"
      ],
      "metadata": {
        "colab": {
          "base_uri": "https://localhost:8080/",
          "height": 430
        },
        "id": "wSqtawhsN8jq",
        "outputId": "2b704bb5-9ff9-401a-ec5b-f6c56667fbad"
      },
      "execution_count": 2,
      "outputs": [
        {
          "output_type": "display_data",
          "data": {
            "text/plain": [
              "<Figure size 640x480 with 1 Axes>"
            ],
            "image/png": "[encoded data removed]"
          },
          "metadata": {}
        }
      ]
    },
    {
      "cell_type": "markdown",
      "source": [
        "# Histogram Explained\n",
        "\n",
        "We use the array from the example above to draw a histogram with 5 bars.\n",
        "\n",
        "The first bar represents how many values in the array are between 0 and 1.\n",
        "\n",
        "The second bar represents how many values are between 1 and 2.\n",
        "\n",
        "Etc.\n",
        "\n",
        "This gives us this result:\n",
        "\n",
        "- 52 values are between 0 and 1\n",
        "- 48 values are between 1 and 2\n",
        "- 49 values are between 2 and 3\n",
        "- 51 values are between 3 and 4\n",
        "- 50 values are between 4 and 5\n",
        "\n",
        "**Note:** The array values are random numbers and will not show the exact same result on your computer."
      ],
      "metadata": {
        "id": "jOYFoak8Obg7"
      }
    },
    {
      "cell_type": "markdown",
      "source": [
        "# Big Data Distributions\n",
        "\n",
        "An array containing 250 values is not considered very big, but now you know how to create a random set of values, and by changing the parameters, you can create the data set as big as you want."
      ],
      "metadata": {
        "id": "92laN7dzOnFy"
      }
    },
    {
      "cell_type": "code",
      "source": [
        "import numpy\n",
        "import matplotlib.pyplot as plt\n",
        "\n",
        "x = numpy.random.uniform(0.0, 5.0, 100000)\n",
        "\n",
        "plt.hist(x, 100)\n",
        "plt.show()"
      ],
      "metadata": {
        "colab": {
          "base_uri": "https://localhost:8080/",
          "height": 430
        },
        "id": "isdN3gnnOO_l",
        "outputId": "236759a2-b5b1-45b0-d051-6784ea3beaa5"
      },
      "execution_count": 3,
      "outputs": [
        {
          "output_type": "display_data",
          "data": {
            "text/plain": [
              "<Figure size 640x480 with 1 Axes>"
            ],
            "image/png": "[encoded data removed]"
          },
          "metadata": {}
        }
      ]
    },
    {
      "cell_type": "code",
      "source": [],
      "metadata": {
        "id": "NMcOBRs7OyLz"
      },
      "execution_count": null,
      "outputs": []
    }
  ]
}
