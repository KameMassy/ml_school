{
  "nbformat": 4,
  "nbformat_minor": 0,
  "metadata": {
    "colab": {
      "provenance": [],
      "authorship_tag": "ABX9TyN7lYCQ9skTGOggdf8POQd1",
      "include_colab_link": true
    },
    "kernelspec": {
      "name": "python3",
      "display_name": "Python 3"
    },
    "language_info": {
      "name": "python"
    }
  },
  "cells": [
    {
      "cell_type": "markdown",
      "metadata": {
        "id": "view-in-github",
        "colab_type": "text"
      },
      "source": [
        "<a href=\"https://colab.research.google.com/github/KameMassy/ml_school/blob/main/ml_Scale_10.ipynb\" target=\"_parent\"><img src=\"https://colab.research.google.com/assets/colab-badge.svg\" alt=\"Open In Colab\"/></a>"
      ]
    },
    {
      "cell_type": "markdown",
      "source": [
        "**Scale Features**\n",
        "\n",
        "When your data has different values and even different measurement units, it can be difficult to compare them. What are kilograms compared to meters? Or altitude compared to time?\n",
        "\n",
        "The answer to this problem is scaling. We can scale data into new values that are easier to compare."
      ],
      "metadata": {
        "id": "o4gGCilISomL"
      }
    },
    {
      "cell_type": "markdown",
      "source": [
        "It can be difficult to compare volume 1.0 with weight 790, but if we scale them both into comparable values, we can easily see how much one value is compared to the other.\n",
        "\n",
        "There are different methods for scaling data, in this tutorial, we will use a method called standardization.\n",
        "\n",
        "The standardization method uses this formula:\n",
        "\n",
        "`z = (x - u) / s`\n",
        "\n",
        "Where `z` is the new value, `x` is the original value, `u` is the mean and `s` is the standard deviation.\n",
        "\n",
        "If you take the **weight** column from the data set above, the first value is 790, and the scaled value will be:\n",
        "\n",
        "```\n",
        "(790 -1292.23) /238.74 = -2.1\n",
        "```\n",
        "If you take the volume column from the data set above, the first value is 1.0, and the scaled value will be:\n",
        "\n",
        "(1.0 - 1.61) / 0.38 = -1.59\n",
        "\n",
        "Now you can compare -2.1 with -1.59 instead of comparing 790 with 1.0.\n",
        "\n",
        "You do not have to do this manually, the Python sklearn module has a method called StandardScaler() which returns a Scaler object with methods for transforming data sets.\n"
      ],
      "metadata": {
        "id": "g77QaEmdTZe8"
      }
    },
    {
      "cell_type": "code",
      "execution_count": null,
      "metadata": {
        "colab": {
          "base_uri": "https://localhost:8080/"
        },
        "id": "WEA5fnHSRl_J",
        "outputId": "f1423f62-b61f-4f86-f2f9-952e1f6e0fbf"
      },
      "outputs": [
        {
          "output_type": "stream",
          "name": "stdout",
          "text": [
            "[[-2.10389253 -1.59336644]\n",
            " [-0.55407235 -1.07190106]\n",
            " [-1.52166278 -1.59336644]\n",
            " [-1.78973979 -1.85409913]\n",
            " [-0.63784641 -0.28970299]\n",
            " [-1.52166278 -1.59336644]\n",
            " [-0.76769621 -0.55043568]\n",
            " [ 0.3046118  -0.28970299]\n",
            " [-0.7551301  -0.28970299]\n",
            " [-0.59595938 -0.0289703 ]\n",
            " [-1.30803892 -1.33263375]\n",
            " [-1.26615189 -0.81116837]\n",
            " [-0.7551301  -1.59336644]\n",
            " [-0.16871166 -0.0289703 ]\n",
            " [ 0.14125238 -0.0289703 ]\n",
            " [ 0.15800719 -0.0289703 ]\n",
            " [ 0.3046118  -0.0289703 ]\n",
            " [-0.05142797  1.53542584]\n",
            " [-0.72580918 -0.0289703 ]\n",
            " [ 0.14962979  1.01396046]\n",
            " [ 1.2219378  -0.0289703 ]\n",
            " [ 0.5685001   1.01396046]\n",
            " [ 0.3046118   1.27469315]\n",
            " [ 0.51404696 -0.0289703 ]\n",
            " [ 0.51404696  1.01396046]\n",
            " [ 0.72348212 -0.28970299]\n",
            " [ 0.8281997   1.01396046]\n",
            " [ 1.81254495  1.01396046]\n",
            " [ 0.96642691 -0.0289703 ]\n",
            " [ 1.72877089  1.01396046]\n",
            " [ 1.30990057  1.27469315]\n",
            " [ 1.90050772  1.01396046]\n",
            " [-0.23991961 -0.0289703 ]\n",
            " [ 0.40932938 -0.0289703 ]\n",
            " [ 0.47215993 -0.0289703 ]\n",
            " [ 0.4302729   2.31762392]]\n"
          ]
        }
      ],
      "source": [
        "import pandas\n",
        "from sklearn import linear_model\n",
        "from sklearn.preprocessing import StandardScaler\n",
        "scale = StandardScaler()\n",
        "\n",
        "df = pandas.read_csv(\"data.csv\")\n",
        "\n",
        "X = df[['Weight', 'Volume']]\n",
        "\n",
        "scaledX = scale.fit_transform(X)\n",
        "\n",
        "print(scaledX)"
      ]
    },
    {
      "cell_type": "markdown",
      "source": [
        "# Predict CO2 Values\n",
        "\n",
        "The task in the Multiple Regression chapter was to predict the CO2 emission from a car when you only knew its weight and volume.\n",
        "\n",
        "When the data set is scaled, you will have to use the scale when you predict values:"
      ],
      "metadata": {
        "id": "MDEALUDNUOjE"
      }
    },
    {
      "cell_type": "code",
      "source": [
        "import pandas\n",
        "from sklearn import linear_model\n",
        "from sklearn.preprocessing import StandardScaler\n",
        "scale = StandardScaler()\n",
        "\n",
        "df = pandas.read_csv(\"data.csv\")\n",
        "\n",
        "X = df[['Weight', 'Volume']]\n",
        "y = df['CO2']\n",
        "\n",
        "scaledX = scale.fit_transform(X)\n",
        "\n",
        "regr = linear_model.LinearRegression()\n",
        "regr.fit(scaledX, y)\n",
        "\n",
        "scaled = scale.transform([[2300, 1.3]])\n",
        "\n",
        "predictedCO2 = regr.predict([scaled[0]])\n",
        "print(predictedCO2)"
      ],
      "metadata": {
        "colab": {
          "base_uri": "https://localhost:8080/"
        },
        "id": "J4B7H-E2T2zB",
        "outputId": "af6ba50a-a241-471a-b58d-45a35b9a4184"
      },
      "execution_count": null,
      "outputs": [
        {
          "output_type": "stream",
          "name": "stdout",
          "text": [
            "[97.07204485]\n"
          ]
        },
        {
          "output_type": "stream",
          "name": "stderr",
          "text": [
            "/usr/local/lib/python3.10/dist-packages/sklearn/base.py:439: UserWarning: X does not have valid feature names, but StandardScaler was fitted with feature names\n",
            "  warnings.warn(\n"
          ]
        }
      ]
    },
    {
      "cell_type": "code",
      "source": [],
      "metadata": {
        "id": "t6EmH5bgUTRE"
      },
      "execution_count": null,
      "outputs": []
    }
  ]
}