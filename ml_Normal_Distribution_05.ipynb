{
  "nbformat": 4,
  "nbformat_minor": 0,
  "metadata": {
    "colab": {
      "provenance": [],
      "authorship_tag": "ABX9TyNYeGiRoxO9POL2w4ppu8Ja",
      "include_colab_link": true
    },
    "kernelspec": {
      "name": "python3",
      "display_name": "Python 3"
    },
    "language_info": {
      "name": "python"
    }
  },
  "cells": [
    {
      "cell_type": "markdown",
      "metadata": {
        "id": "view-in-github",
        "colab_type": "text"
      },
      "source": [
        "<a href=\"https://colab.research.google.com/github/KameMassy/ml_school/blob/main/ml_Normal_Distribution_05.ipynb\" target=\"_parent\"><img src=\"https://colab.research.google.com/assets/colab-badge.svg\" alt=\"Open In Colab\"/></a>"
      ]
    },
    {
      "cell_type": "markdown",
      "source": [
        "# Normal Data Distribution\n",
        "\n",
        "In the previous chapter we learned how to create a completely random array, of a given size, and between two given values.\n",
        "\n",
        "In this chapter, we will learn how to create an array where the values are concentrated around a given value.\n",
        "\n",
        "In probability theory, this kind of data distribution is known as the *normal data distribution*, or the *Gaussian data distribution*, after the mathematician Carl Friedrich Gauss who came up with the formula of this data distribution.\n",
        "\n",
        "Note: A normal distribution graph is also known as the bell curve because of its characteristic shape of a bell."
      ],
      "metadata": {
        "id": "sRowLfbZR7EW"
      }
    },
    {
      "cell_type": "code",
      "execution_count": 1,
      "metadata": {
        "colab": {
          "base_uri": "https://localhost:8080/",
          "height": 430
        },
        "id": "5oAvOcSPP1YN",
        "outputId": "d41f6154-8aa4-4bf5-88e3-791d6de47298"
      },
      "outputs": [
        {
          "output_type": "display_data",
          "data": {
            "text/plain": [
              "<Figure size 640x480 with 1 Axes>"
            ],
            "image/png": "[encoded data removed]"
          },
          "metadata": {}
        }
      ],
      "source": [
        "import numpy\n",
        "import matplotlib.pyplot as plt\n",
        "\n",
        "x = numpy.random.normal(5.0, 1.0, 100000)\n",
        "\n",
        "plt.hist(x, 100)\n",
        "plt.show()"
      ]
    },
    {
      "cell_type": "markdown",
      "source": [
        "# Histogram Explained\n",
        "\n",
        "We use the array from the `numpy.random.normal()` method, with 100000 values,  to draw a histogram with 100 bars.\n",
        "\n",
        "We specify that the mean value is 5.0, and the standard deviation is 1.0.\n",
        "\n",
        "Meaning that the values should be concentrated around 5.0, and rarely further away than 1.0 from the mean.\n",
        "\n",
        "And as you can see from the histogram, most values are between 4.0 and 6.0, with a top at approximately 5.0."
      ],
      "metadata": {
        "id": "0APkJLTLSpRF"
      }
    },
    {
      "cell_type": "code",
      "source": [],
      "metadata": {
        "id": "dkU8UaadRxnl"
      },
      "execution_count": null,
      "outputs": []
    }
  ]
}